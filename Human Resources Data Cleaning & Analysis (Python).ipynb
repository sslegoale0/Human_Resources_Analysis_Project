{
 "cells": [
  {
   "cell_type": "markdown",
   "id": "d65d668a-3858-4258-884b-0731d66d2dbb",
   "metadata": {},
   "source": [
    "Human Resources Data Cleaning"
   ]
  },
  {
   "cell_type": "code",
   "execution_count": 2,
   "id": "359bd36b-3ebb-47c8-a3b1-e0791df536fb",
   "metadata": {},
   "outputs": [],
   "source": [
    "# Importing Python libraries for Data Analysis."
   ]
  },
  {
   "cell_type": "code",
   "execution_count": 3,
   "id": "a40f81db-6e40-414b-a61a-afca410cbcec",
   "metadata": {},
   "outputs": [],
   "source": [
    "import numpy as np\n",
    "import pandas as pd\n",
    "import matplotlib.pyplot as plt\n",
    "import seaborn as sns"
   ]
  },
  {
   "cell_type": "code",
   "execution_count": 4,
   "id": "645a2c36-df15-48dc-8b81-90cb8c5e556b",
   "metadata": {},
   "outputs": [],
   "source": [
    "# Importing Human Resources data into Python."
   ]
  },
  {
   "cell_type": "code",
   "execution_count": 5,
   "id": "5c2ab36d-533c-42fd-a5d6-c1802d8a67df",
   "metadata": {},
   "outputs": [],
   "source": [
    "employees = pd.read_excel(\"Human Resources Data.xlsx\")"
   ]
  },
  {
   "cell_type": "code",
   "execution_count": 6,
   "id": "3159f416-d468-4a97-80c2-a3c9125418b9",
   "metadata": {},
   "outputs": [],
   "source": [
    "# Reading first five rows of the dataframe."
   ]
  },
  {
   "cell_type": "code",
   "execution_count": 7,
   "id": "63f7345b-6a47-46d1-a097-90cd3e9cfb72",
   "metadata": {},
   "outputs": [
    {
     "data": {
      "text/html": [
       "<div>\n",
       "<style scoped>\n",
       "    .dataframe tbody tr th:only-of-type {\n",
       "        vertical-align: middle;\n",
       "    }\n",
       "\n",
       "    .dataframe tbody tr th {\n",
       "        vertical-align: top;\n",
       "    }\n",
       "\n",
       "    .dataframe thead th {\n",
       "        text-align: right;\n",
       "    }\n",
       "</style>\n",
       "<table border=\"1\" class=\"dataframe\">\n",
       "  <thead>\n",
       "    <tr style=\"text-align: right;\">\n",
       "      <th></th>\n",
       "      <th>Attrition</th>\n",
       "      <th>Business Travel</th>\n",
       "      <th>CF_age band</th>\n",
       "      <th>CF_attrition label</th>\n",
       "      <th>Department</th>\n",
       "      <th>Education Field</th>\n",
       "      <th>emp no</th>\n",
       "      <th>Employee Number</th>\n",
       "      <th>Gender</th>\n",
       "      <th>Job Role</th>\n",
       "      <th>...</th>\n",
       "      <th>Performance Rating</th>\n",
       "      <th>Relationship Satisfaction</th>\n",
       "      <th>Standard Hours</th>\n",
       "      <th>Stock Option Level</th>\n",
       "      <th>Total Working Years</th>\n",
       "      <th>Work Life Balance</th>\n",
       "      <th>Years At Company</th>\n",
       "      <th>Years In Current Role</th>\n",
       "      <th>Years Since Last Promotion</th>\n",
       "      <th>Years With Curr Manager</th>\n",
       "    </tr>\n",
       "  </thead>\n",
       "  <tbody>\n",
       "    <tr>\n",
       "      <th>0</th>\n",
       "      <td>Yes</td>\n",
       "      <td>Travel_Rarely</td>\n",
       "      <td>35 - 44</td>\n",
       "      <td>Ex-Employees</td>\n",
       "      <td>Sales</td>\n",
       "      <td>Life Sciences</td>\n",
       "      <td>STAFF-1</td>\n",
       "      <td>1</td>\n",
       "      <td>Female</td>\n",
       "      <td>Sales Executive</td>\n",
       "      <td>...</td>\n",
       "      <td>3</td>\n",
       "      <td>1</td>\n",
       "      <td>80</td>\n",
       "      <td>0</td>\n",
       "      <td>8</td>\n",
       "      <td>1</td>\n",
       "      <td>6</td>\n",
       "      <td>4</td>\n",
       "      <td>0</td>\n",
       "      <td>5</td>\n",
       "    </tr>\n",
       "    <tr>\n",
       "      <th>1</th>\n",
       "      <td>No</td>\n",
       "      <td>Travel_Frequently</td>\n",
       "      <td>45 - 54</td>\n",
       "      <td>Current Employees</td>\n",
       "      <td>R&amp;D</td>\n",
       "      <td>Life Sciences</td>\n",
       "      <td>STAFF-2</td>\n",
       "      <td>2</td>\n",
       "      <td>Male</td>\n",
       "      <td>Research Scientist</td>\n",
       "      <td>...</td>\n",
       "      <td>4</td>\n",
       "      <td>4</td>\n",
       "      <td>80</td>\n",
       "      <td>1</td>\n",
       "      <td>10</td>\n",
       "      <td>3</td>\n",
       "      <td>10</td>\n",
       "      <td>7</td>\n",
       "      <td>1</td>\n",
       "      <td>7</td>\n",
       "    </tr>\n",
       "    <tr>\n",
       "      <th>2</th>\n",
       "      <td>Yes</td>\n",
       "      <td>Travel_Rarely</td>\n",
       "      <td>35 - 44</td>\n",
       "      <td>Ex-Employees</td>\n",
       "      <td>R&amp;D</td>\n",
       "      <td>Other</td>\n",
       "      <td>STAFF-4</td>\n",
       "      <td>4</td>\n",
       "      <td>Male</td>\n",
       "      <td>Laboratory Technician</td>\n",
       "      <td>...</td>\n",
       "      <td>3</td>\n",
       "      <td>2</td>\n",
       "      <td>80</td>\n",
       "      <td>0</td>\n",
       "      <td>7</td>\n",
       "      <td>3</td>\n",
       "      <td>0</td>\n",
       "      <td>0</td>\n",
       "      <td>0</td>\n",
       "      <td>0</td>\n",
       "    </tr>\n",
       "    <tr>\n",
       "      <th>3</th>\n",
       "      <td>No</td>\n",
       "      <td>Travel_Frequently</td>\n",
       "      <td>25 - 34</td>\n",
       "      <td>Current Employees</td>\n",
       "      <td>R&amp;D</td>\n",
       "      <td>Life Sciences</td>\n",
       "      <td>STAFF-5</td>\n",
       "      <td>5</td>\n",
       "      <td>Female</td>\n",
       "      <td>Research Scientist</td>\n",
       "      <td>...</td>\n",
       "      <td>3</td>\n",
       "      <td>3</td>\n",
       "      <td>80</td>\n",
       "      <td>0</td>\n",
       "      <td>8</td>\n",
       "      <td>3</td>\n",
       "      <td>8</td>\n",
       "      <td>7</td>\n",
       "      <td>3</td>\n",
       "      <td>0</td>\n",
       "    </tr>\n",
       "    <tr>\n",
       "      <th>4</th>\n",
       "      <td>No</td>\n",
       "      <td>Travel_Rarely</td>\n",
       "      <td>25 - 34</td>\n",
       "      <td>Current Employees</td>\n",
       "      <td>R&amp;D</td>\n",
       "      <td>Medical</td>\n",
       "      <td>STAFF-7</td>\n",
       "      <td>7</td>\n",
       "      <td>Male</td>\n",
       "      <td>Laboratory Technician</td>\n",
       "      <td>...</td>\n",
       "      <td>3</td>\n",
       "      <td>4</td>\n",
       "      <td>80</td>\n",
       "      <td>1</td>\n",
       "      <td>6</td>\n",
       "      <td>3</td>\n",
       "      <td>2</td>\n",
       "      <td>2</td>\n",
       "      <td>2</td>\n",
       "      <td>2</td>\n",
       "    </tr>\n",
       "  </tbody>\n",
       "</table>\n",
       "<p>5 rows × 39 columns</p>\n",
       "</div>"
      ],
      "text/plain": [
       "  Attrition    Business Travel CF_age band CF_attrition label Department  \\\n",
       "0       Yes      Travel_Rarely     35 - 44       Ex-Employees      Sales   \n",
       "1        No  Travel_Frequently     45 - 54  Current Employees        R&D   \n",
       "2       Yes      Travel_Rarely     35 - 44       Ex-Employees        R&D   \n",
       "3        No  Travel_Frequently     25 - 34  Current Employees        R&D   \n",
       "4        No      Travel_Rarely     25 - 34  Current Employees        R&D   \n",
       "\n",
       "  Education Field   emp no  Employee Number  Gender               Job Role  \\\n",
       "0   Life Sciences  STAFF-1                1  Female        Sales Executive   \n",
       "1   Life Sciences  STAFF-2                2    Male     Research Scientist   \n",
       "2           Other  STAFF-4                4    Male  Laboratory Technician   \n",
       "3   Life Sciences  STAFF-5                5  Female     Research Scientist   \n",
       "4         Medical  STAFF-7                7    Male  Laboratory Technician   \n",
       "\n",
       "   ... Performance Rating Relationship Satisfaction Standard Hours  \\\n",
       "0  ...                  3                         1             80   \n",
       "1  ...                  4                         4             80   \n",
       "2  ...                  3                         2             80   \n",
       "3  ...                  3                         3             80   \n",
       "4  ...                  3                         4             80   \n",
       "\n",
       "   Stock Option Level  Total Working Years  Work Life Balance  \\\n",
       "0                   0                    8                  1   \n",
       "1                   1                   10                  3   \n",
       "2                   0                    7                  3   \n",
       "3                   0                    8                  3   \n",
       "4                   1                    6                  3   \n",
       "\n",
       "   Years At Company  Years In Current Role Years Since Last Promotion  \\\n",
       "0                 6                      4                          0   \n",
       "1                10                      7                          1   \n",
       "2                 0                      0                          0   \n",
       "3                 8                      7                          3   \n",
       "4                 2                      2                          2   \n",
       "\n",
       "   Years With Curr Manager  \n",
       "0                        5  \n",
       "1                        7  \n",
       "2                        0  \n",
       "3                        0  \n",
       "4                        2  \n",
       "\n",
       "[5 rows x 39 columns]"
      ]
     },
     "execution_count": 7,
     "metadata": {},
     "output_type": "execute_result"
    }
   ],
   "source": [
    "employees.head()"
   ]
  },
  {
   "cell_type": "code",
   "execution_count": 8,
   "id": "223f14c2-710a-48d0-9f84-678c0a8689c9",
   "metadata": {},
   "outputs": [],
   "source": [
    "# Getting informations on the columns (data types and non-null values)."
   ]
  },
  {
   "cell_type": "code",
   "execution_count": 19,
   "id": "34e8a4c6-6566-4ae9-bf89-710a532eb303",
   "metadata": {},
   "outputs": [
    {
     "name": "stdout",
     "output_type": "stream",
     "text": [
      "<class 'pandas.core.frame.DataFrame'>\n",
      "RangeIndex: 1470 entries, 0 to 1469\n",
      "Data columns (total 39 columns):\n",
      " #   Column                      Non-Null Count  Dtype \n",
      "---  ------                      --------------  ----- \n",
      " 0   Attrition                   1470 non-null   object\n",
      " 1   Business Travel             1470 non-null   object\n",
      " 2   CF_age band                 1470 non-null   object\n",
      " 3   CF_attrition label          1470 non-null   object\n",
      " 4   Department                  1470 non-null   object\n",
      " 5   Education Field             1470 non-null   object\n",
      " 6   emp no                      1470 non-null   object\n",
      " 7   Employee Number             1470 non-null   int64 \n",
      " 8   Gender                      1470 non-null   object\n",
      " 9   Job Role                    1470 non-null   object\n",
      " 10  Marital Status              1470 non-null   object\n",
      " 11  Over Time                   1470 non-null   object\n",
      " 12  Over18                      1470 non-null   object\n",
      " 13  Training Times Last Year    1470 non-null   int64 \n",
      " 14  Age                         1470 non-null   int64 \n",
      " 15  CF_current Employee         1470 non-null   int64 \n",
      " 16  Daily Rate                  1470 non-null   int64 \n",
      " 17  Distance From Home          1470 non-null   int64 \n",
      " 18  Education                   1470 non-null   object\n",
      " 19  Employee Count              1470 non-null   int64 \n",
      " 20  Environment Satisfaction    1470 non-null   int64 \n",
      " 21  Hourly Rate                 1470 non-null   int64 \n",
      " 22  Job Involvement             1470 non-null   int64 \n",
      " 23  Job Level                   1470 non-null   int64 \n",
      " 24  Job Satisfaction            1470 non-null   int64 \n",
      " 25  Monthly Income              1470 non-null   int64 \n",
      " 26  Monthly Rate                1470 non-null   int64 \n",
      " 27  Num Companies Worked        1470 non-null   int64 \n",
      " 28  Percent Salary Hike         1470 non-null   int64 \n",
      " 29  Performance Rating          1470 non-null   int64 \n",
      " 30  Relationship Satisfaction   1470 non-null   int64 \n",
      " 31  Standard Hours              1470 non-null   int64 \n",
      " 32  Stock Option Level          1470 non-null   int64 \n",
      " 33  Total Working Years         1470 non-null   int64 \n",
      " 34  Work Life Balance           1470 non-null   int64 \n",
      " 35  Years At Company            1470 non-null   int64 \n",
      " 36  Years In Current Role       1470 non-null   int64 \n",
      " 37  Years Since Last Promotion  1470 non-null   int64 \n",
      " 38  Years With Curr Manager     1470 non-null   int64 \n",
      "dtypes: int64(26), object(13)\n",
      "memory usage: 448.0+ KB\n"
     ]
    }
   ],
   "source": [
    "employees.info()"
   ]
  },
  {
   "cell_type": "code",
   "execution_count": 29,
   "id": "cc9472e9-17b9-42a9-9e0d-f3f186a8ea67",
   "metadata": {},
   "outputs": [],
   "source": [
    "#1. Removing duplicate rows from dataframe."
   ]
  },
  {
   "cell_type": "code",
   "execution_count": 31,
   "id": "59640a8b-f23a-4c30-a62d-97e8cbefc663",
   "metadata": {},
   "outputs": [
    {
     "data": {
      "text/plain": [
       "Index(['Attrition', 'Business Travel', 'CF_age band', 'CF_attrition label',\n",
       "       'Department', 'Education Field', 'emp no', 'Employee Number', 'Gender',\n",
       "       'Job Role', 'Marital Status', 'Over Time', 'Over18',\n",
       "       'Training Times Last Year', 'Age', 'CF_current Employee', 'Daily Rate',\n",
       "       'Distance From Home', 'Education', 'Employee Count',\n",
       "       'Environment Satisfaction', 'Hourly Rate', 'Job Involvement',\n",
       "       'Job Level', 'Job Satisfaction', 'Monthly Income', 'Monthly Rate',\n",
       "       'Num Companies Worked', 'Percent Salary Hike', 'Performance Rating',\n",
       "       'Relationship Satisfaction', 'Standard Hours', 'Stock Option Level',\n",
       "       'Total Working Years', 'Work Life Balance', 'Years At Company',\n",
       "       'Years In Current Role', 'Years Since Last Promotion',\n",
       "       'Years With Curr Manager'],\n",
       "      dtype='object')"
      ]
     },
     "execution_count": 31,
     "metadata": {},
     "output_type": "execute_result"
    }
   ],
   "source": [
    "employees.columns"
   ]
  },
  {
   "cell_type": "code",
   "execution_count": 45,
   "id": "ba625157-b51f-4cc2-a75a-96059a674a3c",
   "metadata": {},
   "outputs": [
    {
     "data": {
      "text/plain": [
       "0"
      ]
     },
     "execution_count": 45,
     "metadata": {},
     "output_type": "execute_result"
    }
   ],
   "source": [
    "employees.duplicated().sum()"
   ]
  },
  {
   "cell_type": "code",
   "execution_count": 47,
   "id": "2e41ce9d-f3d6-416d-8c6c-95cf44b3cfc3",
   "metadata": {},
   "outputs": [
    {
     "data": {
      "text/plain": [
       "0"
      ]
     },
     "execution_count": 47,
     "metadata": {},
     "output_type": "execute_result"
    }
   ],
   "source": [
    "employees.duplicated(\"Employee Number\").sum()"
   ]
  },
  {
   "cell_type": "code",
   "execution_count": 49,
   "id": "b14944bd-7bcf-479e-8731-eccbf9b9c218",
   "metadata": {},
   "outputs": [],
   "source": [
    "# no duplicates"
   ]
  },
  {
   "cell_type": "code",
   "execution_count": 51,
   "id": "136f12dc-7376-4e60-99d4-cb1162eb6cdd",
   "metadata": {},
   "outputs": [],
   "source": [
    "#2. data formatting & standardisation."
   ]
  },
  {
   "cell_type": "code",
   "execution_count": null,
   "id": "ab08cd7f-4173-4baa-89e1-92135b160917",
   "metadata": {},
   "outputs": [],
   "source": []
  }
 ],
 "metadata": {
  "kernelspec": {
   "display_name": "Python 3 (ipykernel)",
   "language": "python",
   "name": "python3"
  },
  "language_info": {
   "codemirror_mode": {
    "name": "ipython",
    "version": 3
   },
   "file_extension": ".py",
   "mimetype": "text/x-python",
   "name": "python",
   "nbconvert_exporter": "python",
   "pygments_lexer": "ipython3",
   "version": "3.12.4"
  }
 },
 "nbformat": 4,
 "nbformat_minor": 5
}
