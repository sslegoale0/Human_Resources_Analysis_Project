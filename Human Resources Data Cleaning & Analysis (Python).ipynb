{
 "cells": [
  {
   "cell_type": "markdown",
   "id": "d65d668a-3858-4258-884b-0731d66d2dbb",
   "metadata": {},
   "source": [
    "## Human Resources Data Cleaning"
   ]
  },
  {
   "cell_type": "markdown",
   "id": "97d39a6b-48f0-40d1-849b-a90700ff68ea",
   "metadata": {},
   "source": [
    "#### Importing Python libraries for Data Analysis."
   ]
  },
  {
   "cell_type": "code",
   "execution_count": null,
   "id": "a40f81db-6e40-414b-a61a-afca410cbcec",
   "metadata": {},
   "outputs": [],
   "source": [
    "import numpy as np\n",
    "import pandas as pd\n",
    "import matplotlib.pyplot as plt\n",
    "import seaborn as sns"
   ]
  },
  {
   "cell_type": "markdown",
   "id": "f85856ba-4f53-4d4c-af30-15604ea4ffd6",
   "metadata": {},
   "source": [
    "#### Importing Human Resources data into Python."
   ]
  },
  {
   "cell_type": "code",
   "execution_count": null,
   "id": "5c2ab36d-533c-42fd-a5d6-c1802d8a67df",
   "metadata": {},
   "outputs": [],
   "source": [
    "employees = pd.read_excel(\"Human Resources Data.xlsx\")"
   ]
  },
  {
   "cell_type": "markdown",
   "id": "bd1d4dd5-0cd5-4838-a743-b7e9c7982734",
   "metadata": {},
   "source": [
    "#### Reading first five rows of the dataframe."
   ]
  },
  {
   "cell_type": "code",
   "execution_count": null,
   "id": "63f7345b-6a47-46d1-a097-90cd3e9cfb72",
   "metadata": {},
   "outputs": [],
   "source": [
    "employees"
   ]
  },
  {
   "cell_type": "markdown",
   "id": "e169aca0-4a78-4247-9673-62bdaf8b2d06",
   "metadata": {},
   "source": [
    "#### Getting informations on the columns (data types and non-null values)."
   ]
  },
  {
   "cell_type": "code",
   "execution_count": null,
   "id": "34e8a4c6-6566-4ae9-bf89-710a532eb303",
   "metadata": {},
   "outputs": [],
   "source": [
    "employees.info()"
   ]
  },
  {
   "cell_type": "markdown",
   "id": "557b06d5-8123-4cfe-b74b-1a5b2ca9f3de",
   "metadata": {},
   "source": [
    "#### Renaming columns"
   ]
  },
  {
   "cell_type": "code",
   "execution_count": null,
   "id": "4e7fefee-0b7c-4d1b-b42c-89d3a8bff65e",
   "metadata": {},
   "outputs": [],
   "source": [
    "employees.rename(columns = {\"Num Companies Worked\":\"Number Of Companies Worked For\", \"Years With Curr Manager\":\"Years With Current Manager\"})"
   ]
  },
  {
   "cell_type": "markdown",
   "id": "e9e40c8d-d9bc-44f7-a4e7-0bf998750c58",
   "metadata": {},
   "source": [
    "#### New column names"
   ]
  },
  {
   "cell_type": "code",
   "execution_count": null,
   "id": "59640a8b-f23a-4c30-a62d-97e8cbefc663",
   "metadata": {},
   "outputs": [],
   "source": [
    "employees.columns"
   ]
  },
  {
   "cell_type": "markdown",
   "id": "d85f551f-5444-4bf5-a5ad-0082ed73d310",
   "metadata": {},
   "source": [
    "### 1. Removing duplicate rows from dataframe."
   ]
  },
  {
   "cell_type": "code",
   "execution_count": null,
   "id": "ba625157-b51f-4cc2-a75a-96059a674a3c",
   "metadata": {},
   "outputs": [],
   "source": [
    "employees.duplicated().sum()"
   ]
  },
  {
   "cell_type": "code",
   "execution_count": null,
   "id": "2e41ce9d-f3d6-416d-8c6c-95cf44b3cfc3",
   "metadata": {},
   "outputs": [],
   "source": [
    "employees.duplicated(\"Employee Number\").sum()"
   ]
  },
  {
   "cell_type": "markdown",
   "id": "595f5cc0-65cd-487b-a4ca-7e867a9b7724",
   "metadata": {},
   "source": [
    "### 2. Data formatting & standardisation."
   ]
  },
  {
   "cell_type": "code",
   "execution_count": null,
   "id": "ab08cd7f-4173-4baa-89e1-92135b160917",
   "metadata": {},
   "outputs": [],
   "source": [
    "employees[\"Attrition\"].sort_values().unique()"
   ]
  },
  {
   "cell_type": "code",
   "execution_count": null,
   "id": "e4ae2bca-0476-444f-bfd2-30353dd2e3c1",
   "metadata": {},
   "outputs": [],
   "source": [
    "employees[\"Business Travel\"].sort_values().unique()"
   ]
  },
  {
   "cell_type": "code",
   "execution_count": null,
   "id": "12d7ce58-6efd-4a00-9277-e02ecc41fb0b",
   "metadata": {},
   "outputs": [],
   "source": [
    "employees[\"Business Travel\"] = employees[\"Business Travel\"].str.replace(\"_\", \" \")"
   ]
  },
  {
   "cell_type": "code",
   "execution_count": null,
   "id": "3449d1d8-1abe-4b01-8cad-d5927b40efa7",
   "metadata": {},
   "outputs": [],
   "source": [
    "employees[\"CF_age band\"].sort_values().unique()"
   ]
  },
  {
   "cell_type": "code",
   "execution_count": null,
   "id": "f8326141-93bb-42ed-be3d-fa475a24013b",
   "metadata": {},
   "outputs": [],
   "source": [
    "employees[\"CF_attrition label\"].sort_values().unique()"
   ]
  },
  {
   "cell_type": "code",
   "execution_count": null,
   "id": "c67f3eb8-34dc-480c-9540-eccce8ef25a1",
   "metadata": {},
   "outputs": [],
   "source": [
    "employees[\"Department\"].sort_values().unique()"
   ]
  },
  {
   "cell_type": "code",
   "execution_count": null,
   "id": "1581c980-edb3-42b7-a994-2bdf3c638cff",
   "metadata": {},
   "outputs": [],
   "source": [
    "employees[\"Education Field\"].sort_values().unique()"
   ]
  },
  {
   "cell_type": "code",
   "execution_count": null,
   "id": "1950f71f-da9d-41ba-a1eb-8f19971446bd",
   "metadata": {},
   "outputs": [],
   "source": [
    "employees[\"emp no\"].sort_values().unique()"
   ]
  },
  {
   "cell_type": "code",
   "execution_count": null,
   "id": "e9354dbc-50e7-480c-9c89-6e42d6d0bbe4",
   "metadata": {},
   "outputs": [],
   "source": [
    "employees[\"Employee Number\"].sort_values().unique()"
   ]
  },
  {
   "cell_type": "code",
   "execution_count": null,
   "id": "f90e30f6-b225-4ac7-9171-ebb574e97395",
   "metadata": {},
   "outputs": [],
   "source": [
    "employees[\"Gender\"].sort_values().unique()"
   ]
  },
  {
   "cell_type": "code",
   "execution_count": null,
   "id": "a1b06134-5d43-4f5a-8650-81534d988d25",
   "metadata": {},
   "outputs": [],
   "source": [
    "employees[\"Job Role\"].sort_values().unique()"
   ]
  },
  {
   "cell_type": "code",
   "execution_count": null,
   "id": "382c2d77-0288-49b8-a68e-aed0f170b09e",
   "metadata": {},
   "outputs": [],
   "source": [
    "employees[\"Marital Status\"].sort_values().unique()"
   ]
  },
  {
   "cell_type": "code",
   "execution_count": null,
   "id": "cc6a5fb2-2803-425f-8e80-c72dcdea89c4",
   "metadata": {},
   "outputs": [],
   "source": [
    "employees[\"Over Time\"].sort_values().unique()"
   ]
  },
  {
   "cell_type": "code",
   "execution_count": null,
   "id": "a470e584-14ba-42d8-8caa-ac45d24be37f",
   "metadata": {},
   "outputs": [],
   "source": [
    "employees[\"Over18\"].sort_values().unique()"
   ]
  },
  {
   "cell_type": "code",
   "execution_count": null,
   "id": "0932a3e8-2ab4-4d59-a083-8af9ad470ab4",
   "metadata": {},
   "outputs": [],
   "source": [
    "employees[\"Training Times Last Year\"].sort_values().unique()"
   ]
  },
  {
   "cell_type": "code",
   "execution_count": null,
   "id": "cf62a175-4dda-48ae-80d2-d091738d189d",
   "metadata": {},
   "outputs": [],
   "source": [
    "employees[\"Age\"].sort_values().unique()"
   ]
  },
  {
   "cell_type": "code",
   "execution_count": null,
   "id": "60e9054d-06b9-433b-801e-88b1e50f7a9f",
   "metadata": {},
   "outputs": [],
   "source": [
    "employees[\"CF_current Employee\"].sort_values().unique()"
   ]
  },
  {
   "cell_type": "code",
   "execution_count": null,
   "id": "7295655e-938b-47a4-bbce-c80992f994d6",
   "metadata": {},
   "outputs": [],
   "source": [
    "employees[\"Daily Rate\"].sort_values().unique()"
   ]
  },
  {
   "cell_type": "code",
   "execution_count": null,
   "id": "980f8f85-73d8-47ba-a347-645e43a41016",
   "metadata": {},
   "outputs": [],
   "source": [
    "employees[\"Distance From Home\"].sort_values().unique()"
   ]
  },
  {
   "cell_type": "code",
   "execution_count": null,
   "id": "1140a2fb-a1aa-4eb6-b8e0-bdc93dd0752b",
   "metadata": {},
   "outputs": [],
   "source": [
    "employees[\"Education\"].sort_values().unique()"
   ]
  },
  {
   "cell_type": "code",
   "execution_count": null,
   "id": "fcdf5758-c300-43fe-966b-f8763f401a3d",
   "metadata": {},
   "outputs": [],
   "source": [
    "employees[\"Employee Count\"].sort_values().unique()"
   ]
  },
  {
   "cell_type": "code",
   "execution_count": null,
   "id": "c2af3cdb-f6fd-4e5a-b88a-10128d27295f",
   "metadata": {},
   "outputs": [],
   "source": [
    "employees[\"Environment Satisfaction\"].sort_values().unique()"
   ]
  },
  {
   "cell_type": "code",
   "execution_count": null,
   "id": "8dbc5e46-0002-48e7-a39f-1cf1f64d3e3d",
   "metadata": {},
   "outputs": [],
   "source": [
    "employees[\"Hourly Rate\"].sort_values().unique()"
   ]
  },
  {
   "cell_type": "code",
   "execution_count": null,
   "id": "e70d8cbc-593e-4013-94a1-c6034565cd14",
   "metadata": {},
   "outputs": [],
   "source": [
    "employees[\"Job Involvement\"].sort_values().unique()"
   ]
  },
  {
   "cell_type": "code",
   "execution_count": null,
   "id": "9151e3a7-19fd-4b1f-b67d-44bacf052e62",
   "metadata": {},
   "outputs": [],
   "source": [
    "employees[\"Job Level\"].sort_values().unique()"
   ]
  },
  {
   "cell_type": "code",
   "execution_count": null,
   "id": "7ff880e9-834e-4fb6-876e-3f3ea508b468",
   "metadata": {},
   "outputs": [],
   "source": [
    "employees[\"Job Satisfaction\"].sort_values().unique()"
   ]
  },
  {
   "cell_type": "code",
   "execution_count": null,
   "id": "d374d18e-8878-4cf6-a855-ba006e3afe7b",
   "metadata": {},
   "outputs": [],
   "source": [
    "employees[\"Monthly Income\"].sort_values().unique()"
   ]
  },
  {
   "cell_type": "code",
   "execution_count": null,
   "id": "e269415c-871c-438a-b4bb-ed02d9ef9294",
   "metadata": {},
   "outputs": [],
   "source": [
    "employees[\"Monthly Rate\"].sort_values().unique()"
   ]
  },
  {
   "cell_type": "code",
   "execution_count": null,
   "id": "51962041-b928-45c1-8c1d-be4d34a7cd5e",
   "metadata": {},
   "outputs": [],
   "source": [
    "employees[\"Num Companies Worked\"].sort_values().unique()"
   ]
  },
  {
   "cell_type": "code",
   "execution_count": null,
   "id": "001055f0-7d82-4e1e-a02f-7de67f3412ab",
   "metadata": {},
   "outputs": [],
   "source": [
    "employees[\"Percent Salary Hike\"].sort_values().unique()"
   ]
  },
  {
   "cell_type": "code",
   "execution_count": null,
   "id": "95a4a242-3ad8-4a28-a2f2-9590fa093601",
   "metadata": {},
   "outputs": [],
   "source": [
    "employees[\"Performance Rating\"].sort_values().unique()"
   ]
  },
  {
   "cell_type": "code",
   "execution_count": null,
   "id": "70164daf-9ae8-40a0-b3a4-774dfab73da7",
   "metadata": {},
   "outputs": [],
   "source": [
    "employees[\"Relationship Satisfaction\"].sort_values().unique()"
   ]
  },
  {
   "cell_type": "code",
   "execution_count": null,
   "id": "ed0b46b9-3603-48b5-aa74-0ca362c9ed37",
   "metadata": {},
   "outputs": [],
   "source": [
    "employees[\"Standard Hours\"].sort_values().unique()"
   ]
  },
  {
   "cell_type": "code",
   "execution_count": null,
   "id": "9b93e766-a84b-4eab-881b-e9f4a489385f",
   "metadata": {},
   "outputs": [],
   "source": [
    "employees[\"Stock Option Level\"].sort_values().unique()"
   ]
  },
  {
   "cell_type": "code",
   "execution_count": null,
   "id": "72d5ce42-4a88-4eb3-a5e3-7ef650202adc",
   "metadata": {},
   "outputs": [],
   "source": [
    "employees[\"Total Working Years\"].sort_values().unique()"
   ]
  },
  {
   "cell_type": "code",
   "execution_count": null,
   "id": "fa526241-586e-45b9-aa7f-eb8eaac076a3",
   "metadata": {},
   "outputs": [],
   "source": [
    "employees[\"Work Life Balance\"].sort_values().unique()"
   ]
  },
  {
   "cell_type": "code",
   "execution_count": null,
   "id": "b21412df-018c-4df9-a783-fab6497975b9",
   "metadata": {},
   "outputs": [],
   "source": [
    "employees[\"Years At Company\"].sort_values().unique()"
   ]
  },
  {
   "cell_type": "code",
   "execution_count": null,
   "id": "606acd73-5fde-47f1-8ec6-36cee2343629",
   "metadata": {},
   "outputs": [],
   "source": [
    "employees[\"Years In Current Role\"].sort_values().unique()"
   ]
  },
  {
   "cell_type": "code",
   "execution_count": null,
   "id": "2f7bf901-96a0-48b7-929b-bd4314c15f48",
   "metadata": {},
   "outputs": [],
   "source": [
    "employees[\"Years Since Last Promotion\"].sort_values().unique()"
   ]
  },
  {
   "cell_type": "code",
   "execution_count": null,
   "id": "08cda0c0-50ef-436c-969e-5e1a1dd85102",
   "metadata": {},
   "outputs": [],
   "source": [
    "employees[\"Years With Curr Manager\"].sort_values().unique()"
   ]
  },
  {
   "cell_type": "markdown",
   "id": "9f2473d4-c499-4a7f-b55e-dec33131b4c7",
   "metadata": {},
   "source": [
    "### 3. Blank / null values"
   ]
  },
  {
   "cell_type": "code",
   "execution_count": null,
   "id": "58695ef6-7ec6-48e0-b49f-6b5c161ea543",
   "metadata": {},
   "outputs": [],
   "source": [
    "employees.isna().sum()"
   ]
  },
  {
   "cell_type": "markdown",
   "id": "5f313bae-e132-4046-bc02-640c271a3f9b",
   "metadata": {},
   "source": [
    "### 4. Irrelevant columns"
   ]
  },
  {
   "cell_type": "code",
   "execution_count": null,
   "id": "af7ddd04-ca05-4bdc-9daf-fb7ba908dcea",
   "metadata": {},
   "outputs": [],
   "source": [
    "employees = employees.drop([\"CF_age band\", \"CF_attrition label\", \"emp no\", \"Over18\", \"CF_current Employee\", \"Employee Count\"], axis=1)"
   ]
  },
  {
   "cell_type": "markdown",
   "id": "4ab22901-4de2-4267-976e-7e4367bc37e8",
   "metadata": {},
   "source": [
    "## Human Resources Data Analysis."
   ]
  },
  {
   "cell_type": "markdown",
   "id": "fb767315-2d95-451f-b905-a44c608911a3",
   "metadata": {},
   "source": [
    "#### 1. Total Employees"
   ]
  },
  {
   "cell_type": "code",
   "execution_count": null,
   "id": "fdedcba9-8bd1-4d22-8e6c-3de574325148",
   "metadata": {},
   "outputs": [],
   "source": [
    "employees[\"Employee Number\"].count()"
   ]
  },
  {
   "cell_type": "markdown",
   "id": "f9a1f439-acda-4b36-81bb-46af979378b0",
   "metadata": {},
   "source": [
    "#### 2. Current Employees"
   ]
  },
  {
   "cell_type": "code",
   "execution_count": null,
   "id": "c46478f5-97d3-4d01-9045-d3ece7ead3c0",
   "metadata": {},
   "outputs": [],
   "source": [
    "(employees[\"Attrition\"] == \"No\").sum()"
   ]
  },
  {
   "cell_type": "code",
   "execution_count": null,
   "id": "6c2738ee-6f38-4dbe-b687-ec9e0364d6ef",
   "metadata": {},
   "outputs": [],
   "source": [
    "(employees[\"Attrition\"] == \"No\").value_counts(normalize=True)"
   ]
  },
  {
   "cell_type": "markdown",
   "id": "2c2dcb64-bd5a-4d8f-84b2-527f47d62da6",
   "metadata": {},
   "source": [
    "#### 3. Former Employees"
   ]
  },
  {
   "cell_type": "code",
   "execution_count": null,
   "id": "2eda3e5f-24a4-4ffb-aa1f-7ddd1a5e5a15",
   "metadata": {},
   "outputs": [],
   "source": [
    "(employees[\"Attrition\"] == \"Yes\").sum()"
   ]
  },
  {
   "cell_type": "code",
   "execution_count": null,
   "id": "776acb42-d46c-49a8-bcbe-470ab77ba26a",
   "metadata": {},
   "outputs": [],
   "source": [
    "(employees[\"Attrition\"] == \"Yes\").value_counts(normalize=True)"
   ]
  },
  {
   "cell_type": "markdown",
   "id": "67564222-1f34-408d-b6aa-2d471fac7380",
   "metadata": {},
   "source": [
    "#### 4. Average Age"
   ]
  },
  {
   "cell_type": "code",
   "execution_count": null,
   "id": "245fe796-5101-4b09-becb-75736e013538",
   "metadata": {},
   "outputs": [],
   "source": [
    "employees[\"Age\"].mean().round(2)"
   ]
  },
  {
   "cell_type": "markdown",
   "id": "42e0a1c9-8b22-46a6-b66e-751da1248fca",
   "metadata": {},
   "source": [
    "#### 5. Average Employment Length"
   ]
  },
  {
   "cell_type": "code",
   "execution_count": null,
   "id": "72f19050-4ade-40ea-afae-7ab732fc737c",
   "metadata": {},
   "outputs": [],
   "source": [
    "employees[\"Years At Company\"].mean().round(2)"
   ]
  },
  {
   "cell_type": "code",
   "execution_count": null,
   "id": "a7db7f62-0ec7-4ebc-a85f-186af2ac26dc",
   "metadata": {},
   "outputs": [],
   "source": []
  }
 ],
 "metadata": {
  "kernelspec": {
   "display_name": "Python 3 (ipykernel)",
   "language": "python",
   "name": "python3"
  },
  "language_info": {
   "codemirror_mode": {
    "name": "ipython",
    "version": 3
   },
   "file_extension": ".py",
   "mimetype": "text/x-python",
   "name": "python",
   "nbconvert_exporter": "python",
   "pygments_lexer": "ipython3",
   "version": "3.12.4"
  }
 },
 "nbformat": 4,
 "nbformat_minor": 5
}
